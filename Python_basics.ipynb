{
 "cells": [
  {
   "cell_type": "markdown",
   "id": "95a04476",
   "metadata": {},
   "source": [
    "# Starting with Markdown\n",
    "## subtitle\n",
    "Fonts: *italic*, **bold**, ***bold-italic***\n",
    "- item1\n",
    "- item2\n",
    "- item3\n",
    "\n",
    "# Python"
   ]
  },
  {
   "cell_type": "code",
   "execution_count": 3,
   "id": "4ced4e0e",
   "metadata": {},
   "outputs": [
    {
     "name": "stdout",
     "output_type": "stream",
     "text": [
      "Hola!!!\n"
     ]
    }
   ],
   "source": [
    "#Comment\n",
    "print(\"Hola!!!\")"
   ]
  },
  {
   "cell_type": "markdown",
   "id": "2295d7c2",
   "metadata": {},
   "source": [
    "### Variables & data types"
   ]
  },
  {
   "cell_type": "code",
   "execution_count": 7,
   "id": "92ed4ce3",
   "metadata": {},
   "outputs": [
    {
     "name": "stdout",
     "output_type": "stream",
     "text": [
      "xin1\n"
     ]
    },
    {
     "data": {
      "text/plain": [
       "'xin1'"
      ]
     },
     "execution_count": 7,
     "metadata": {},
     "output_type": "execute_result"
    }
   ],
   "source": [
    "#string\n",
    "name = \"xin1\"\n",
    "\n",
    "print(name)\n",
    "#only in Jupyter-notebook, one can write it without 'print', i.e.\n",
    "name"
   ]
  },
  {
   "cell_type": "code",
   "execution_count": 11,
   "id": "0870a6de",
   "metadata": {},
   "outputs": [
    {
     "data": {
      "text/plain": [
       "1.2"
      ]
     },
     "execution_count": 11,
     "metadata": {},
     "output_type": "execute_result"
    }
   ],
   "source": [
    "#integers and floats\n",
    "age = 25\n",
    "age\n",
    "high = 1.2\n",
    "high"
   ]
  },
  {
   "cell_type": "code",
   "execution_count": null,
   "id": "008f70a4",
   "metadata": {},
   "outputs": [],
   "source": [
    "##OJO!! as you see, it only printed the last one!!"
   ]
  },
  {
   "cell_type": "code",
   "execution_count": 18,
   "id": "7291ed84",
   "metadata": {},
   "outputs": [
    {
     "name": "stdout",
     "output_type": "stream",
     "text": [
      "True\n"
     ]
    }
   ],
   "source": [
    "#boolean\n",
    "knows_math = True\n",
    "print(knows_math)"
   ]
  },
  {
   "cell_type": "code",
   "execution_count": 19,
   "id": "c1f9f28a",
   "metadata": {},
   "outputs": [
    {
     "data": {
      "text/plain": [
       "False"
      ]
     },
     "execution_count": 19,
     "metadata": {},
     "output_type": "execute_result"
    }
   ],
   "source": [
    "knows_cooking = False\n",
    "knows_cooking"
   ]
  },
  {
   "cell_type": "code",
   "execution_count": 20,
   "id": "f9cc6377",
   "metadata": {},
   "outputs": [
    {
     "data": {
      "text/plain": [
       "str"
      ]
     },
     "execution_count": 20,
     "metadata": {},
     "output_type": "execute_result"
    }
   ],
   "source": [
    "#if you don't know what kind of variable \"name\" is \n",
    "type(name)"
   ]
  },
  {
   "cell_type": "code",
   "execution_count": 21,
   "id": "6b7021e2",
   "metadata": {},
   "outputs": [
    {
     "data": {
      "text/plain": [
       "bool"
      ]
     },
     "execution_count": 21,
     "metadata": {},
     "output_type": "execute_result"
    }
   ],
   "source": [
    "type(knows_cooking)"
   ]
  },
  {
   "cell_type": "code",
   "execution_count": 24,
   "id": "14b5c69b",
   "metadata": {},
   "outputs": [
    {
     "name": "stdout",
     "output_type": "stream",
     "text": [
      "<class 'float'>\n"
     ]
    }
   ],
   "source": [
    "type(high)  #<-- this is not printed!!\n",
    "print(type(high)) "
   ]
  },
  {
   "cell_type": "markdown",
   "id": "13927d20",
   "metadata": {},
   "source": [
    "### Operations"
   ]
  },
  {
   "cell_type": "code",
   "execution_count": 25,
   "id": "743c3bc1",
   "metadata": {},
   "outputs": [
    {
     "data": {
      "text/plain": [
       "3"
      ]
     },
     "execution_count": 25,
     "metadata": {},
     "output_type": "execute_result"
    }
   ],
   "source": [
    "1+2"
   ]
  },
  {
   "cell_type": "code",
   "execution_count": 26,
   "id": "f473cefc",
   "metadata": {},
   "outputs": [
    {
     "data": {
      "text/plain": [
       "4.2"
      ]
     },
     "execution_count": 26,
     "metadata": {},
     "output_type": "execute_result"
    }
   ],
   "source": [
    "1.2+3"
   ]
  },
  {
   "cell_type": "code",
   "execution_count": 27,
   "id": "313a81bc",
   "metadata": {},
   "outputs": [
    {
     "data": {
      "text/plain": [
       "3.5999999999999996"
      ]
     },
     "execution_count": 27,
     "metadata": {},
     "output_type": "execute_result"
    }
   ],
   "source": [
    "3*high"
   ]
  },
  {
   "cell_type": "code",
   "execution_count": 29,
   "id": "1a4b5afa",
   "metadata": {},
   "outputs": [
    {
     "data": {
      "text/plain": [
       "'xin1xin1'"
      ]
     },
     "execution_count": 29,
     "metadata": {},
     "output_type": "execute_result"
    }
   ],
   "source": [
    "name+name"
   ]
  },
  {
   "cell_type": "code",
   "execution_count": 30,
   "id": "43f4687d",
   "metadata": {},
   "outputs": [
    {
     "data": {
      "text/plain": [
       "'xin1xin1xin1'"
      ]
     },
     "execution_count": 30,
     "metadata": {},
     "output_type": "execute_result"
    }
   ],
   "source": [
    "name*3"
   ]
  },
  {
   "cell_type": "code",
   "execution_count": 37,
   "id": "a74d4682",
   "metadata": {},
   "outputs": [
    {
     "data": {
      "text/plain": [
       "'xin1xin1xin1xin1xin110'"
      ]
     },
     "execution_count": 37,
     "metadata": {},
     "output_type": "execute_result"
    }
   ],
   "source": [
    "name*2 + name*3 + str(10)"
   ]
  },
  {
   "cell_type": "markdown",
   "id": "97054897",
   "metadata": {},
   "source": [
    "### Functions & Methods"
   ]
  },
  {
   "cell_type": "code",
   "execution_count": 43,
   "id": "ab396fd9",
   "metadata": {},
   "outputs": [
    {
     "data": {
      "text/plain": [
       "4"
      ]
     },
     "execution_count": 43,
     "metadata": {},
     "output_type": "execute_result"
    }
   ],
   "source": [
    "#Functions: for example: print, str, int, type,...\n",
    "#nameOftheFuntion(objectName)\n",
    "#another one\n",
    "len(name) #<-- length of name"
   ]
  },
  {
   "cell_type": "code",
   "execution_count": 45,
   "id": "8899a942",
   "metadata": {},
   "outputs": [
    {
     "data": {
      "text/plain": [
       "'XIN1'"
      ]
     },
     "execution_count": 45,
     "metadata": {},
     "output_type": "execute_result"
    }
   ],
   "source": [
    "#Methods: using the name of an object, e.g.\n",
    "#objectName()\n",
    "name.upper()  #<-- write it in mayusculas"
   ]
  },
  {
   "cell_type": "code",
   "execution_count": 46,
   "id": "1c22eb65",
   "metadata": {},
   "outputs": [
    {
     "name": "stdout",
     "output_type": "stream",
     "text": [
      "XIN1\n"
     ]
    }
   ],
   "source": [
    "#one can create a variable/task from an method, e.g.\n",
    "name_up = name.upper()\n",
    "print(name_up)"
   ]
  },
  {
   "cell_type": "code",
   "execution_count": 50,
   "id": "58b07039",
   "metadata": {},
   "outputs": [
    {
     "data": {
      "text/plain": [
       "1"
      ]
     },
     "execution_count": 50,
     "metadata": {},
     "output_type": "execute_result"
    }
   ],
   "source": [
    "#another case of method is using an \"argument\"\n",
    "#objectName(Argument)\n",
    "name.count(\"i\")  #<--count number of \"i\"s"
   ]
  },
  {
   "cell_type": "code",
   "execution_count": 51,
   "id": "9f5c5513",
   "metadata": {},
   "outputs": [
    {
     "data": {
      "text/plain": [
       "'xin with 1st accent is Heart'"
      ]
     },
     "execution_count": 51,
     "metadata": {},
     "output_type": "execute_result"
    }
   ],
   "source": [
    "name.replace(\"1\", \" with 1st accent is Heart\")"
   ]
  },
  {
   "cell_type": "code",
   "execution_count": 53,
   "id": "c9b73bf6",
   "metadata": {},
   "outputs": [
    {
     "data": {
      "text/plain": [
       "'xin with  with 1st accent is Heartst accent is Heart'"
      ]
     },
     "execution_count": 53,
     "metadata": {},
     "output_type": "execute_result"
    }
   ],
   "source": [
    "name = name.replace(\"1\", \" with 1st accent is Heart\")\n",
    "name"
   ]
  },
  {
   "cell_type": "markdown",
   "id": "acaa4bfb",
   "metadata": {},
   "source": [
    "### Lists & Dictionaries"
   ]
  },
  {
   "cell_type": "code",
   "execution_count": 55,
   "id": "8ea6354f",
   "metadata": {},
   "outputs": [
    {
     "data": {
      "text/plain": [
       "4"
      ]
     },
     "execution_count": 55,
     "metadata": {},
     "output_type": "execute_result"
    }
   ],
   "source": [
    "#List. Let's call it \"names\"\n",
    "names = [\"ai\",\"bui\",\"cei\",\"doi\"]\n",
    "len(names)"
   ]
  },
  {
   "cell_type": "code",
   "execution_count": 56,
   "id": "3aa11665",
   "metadata": {},
   "outputs": [
    {
     "data": {
      "text/plain": [
       "list"
      ]
     },
     "execution_count": 56,
     "metadata": {},
     "output_type": "execute_result"
    }
   ],
   "source": [
    "type(names)"
   ]
  },
  {
   "cell_type": "code",
   "execution_count": 58,
   "id": "66c6a2f1",
   "metadata": {},
   "outputs": [
    {
     "data": {
      "text/plain": [
       "'doi'"
      ]
     },
     "execution_count": 58,
     "metadata": {},
     "output_type": "execute_result"
    }
   ],
   "source": [
    "names[3]  #<-- third element"
   ]
  },
  {
   "cell_type": "code",
   "execution_count": 59,
   "id": "0c60c1f5",
   "metadata": {},
   "outputs": [
    {
     "data": {
      "text/plain": [
       "'doi'"
      ]
     },
     "execution_count": 59,
     "metadata": {},
     "output_type": "execute_result"
    }
   ],
   "source": [
    "names[-1]  #<--last element of a list"
   ]
  },
  {
   "cell_type": "code",
   "execution_count": 60,
   "id": "0dc12b8a",
   "metadata": {},
   "outputs": [
    {
     "data": {
      "text/plain": [
       "['ai', 'bui']"
      ]
     },
     "execution_count": 60,
     "metadata": {},
     "output_type": "execute_result"
    }
   ],
   "source": [
    "names[0:2]  #<--including element [0], excluding element [2] !!"
   ]
  },
  {
   "cell_type": "code",
   "execution_count": 61,
   "id": "e1c6f3a4",
   "metadata": {},
   "outputs": [
    {
     "data": {
      "text/plain": [
       "['ai', 'bui']"
      ]
     },
     "execution_count": 61,
     "metadata": {},
     "output_type": "execute_result"
    }
   ],
   "source": [
    "names[:2]  #<--the same, i.e. \"excluding [2]\" !!!"
   ]
  },
  {
   "cell_type": "code",
   "execution_count": 62,
   "id": "afa3ab8f",
   "metadata": {},
   "outputs": [
    {
     "data": {
      "text/plain": [
       "2"
      ]
     },
     "execution_count": 62,
     "metadata": {},
     "output_type": "execute_result"
    }
   ],
   "source": [
    "len(names[0:2])"
   ]
  },
  {
   "cell_type": "code",
   "execution_count": 64,
   "id": "0e7b5d4f",
   "metadata": {},
   "outputs": [
    {
     "data": {
      "text/plain": [
       "[['ai', 'bui', 'cei', 'doi'], [1, 2, 3]]"
      ]
     },
     "execution_count": 64,
     "metadata": {},
     "output_type": "execute_result"
    }
   ],
   "source": [
    "#otra lista\n",
    "names2 = [names, [1,2,3]]\n",
    "names2"
   ]
  },
  {
   "cell_type": "code",
   "execution_count": 66,
   "id": "144688f4",
   "metadata": {},
   "outputs": [
    {
     "data": {
      "text/plain": [
       "['ai', 'bui', 'cei', 'doi', [1, 2, 3]]"
      ]
     },
     "execution_count": 66,
     "metadata": {},
     "output_type": "execute_result"
    }
   ],
   "source": [
    "names2 = [names[0], names[1], names[2], names[3], [1,2,3]]\n",
    "names2"
   ]
  },
  {
   "cell_type": "code",
   "execution_count": 68,
   "id": "37a6c92c",
   "metadata": {},
   "outputs": [
    {
     "data": {
      "text/plain": [
       "2"
      ]
     },
     "execution_count": 68,
     "metadata": {},
     "output_type": "execute_result"
    }
   ],
   "source": [
    "names2[4][1]  #<--give me element[1] of the element[4] of names"
   ]
  },
  {
   "cell_type": "code",
   "execution_count": 69,
   "id": "98046248",
   "metadata": {},
   "outputs": [],
   "source": [
    "#Dictionary=List of Key-value-pairs eg,\n",
    "name_age = {\"ana\": 20, \n",
    "            \"betty\": 15, \n",
    "            \"carla\": 5,\n",
    "            \"diana\": 40}   #<-- se puede separar con \"enters\""
   ]
  },
  {
   "cell_type": "code",
   "execution_count": 70,
   "id": "69f43851",
   "metadata": {},
   "outputs": [
    {
     "data": {
      "text/plain": [
       "20"
      ]
     },
     "execution_count": 70,
     "metadata": {},
     "output_type": "execute_result"
    }
   ],
   "source": [
    "#how to otain a value from such dictionary? \n",
    "name_age[\"ana\"]"
   ]
  },
  {
   "cell_type": "code",
   "execution_count": 73,
   "id": "25c71c53",
   "metadata": {},
   "outputs": [
    {
     "data": {
      "text/plain": [
       "[40, 41, 43]"
      ]
     },
     "execution_count": 73,
     "metadata": {},
     "output_type": "execute_result"
    }
   ],
   "source": [
    "name_age = {\"ana\": 20, \n",
    "            \"betty\": 15, \n",
    "            \"carla\": 5,\n",
    "            \"diana\": [40,41,43]}\n",
    "name_age[\"diana\"]"
   ]
  },
  {
   "cell_type": "markdown",
   "id": "597bda65",
   "metadata": {},
   "source": [
    "### for loops"
   ]
  },
  {
   "cell_type": "code",
   "execution_count": 76,
   "id": "6e63a44e",
   "metadata": {},
   "outputs": [
    {
     "data": {
      "text/plain": [
       "['ai', 'bui', 'cei', 'doi']"
      ]
     },
     "execution_count": 76,
     "metadata": {},
     "output_type": "execute_result"
    }
   ],
   "source": [
    "names"
   ]
  },
  {
   "cell_type": "code",
   "execution_count": 87,
   "id": "7610a3ba",
   "metadata": {},
   "outputs": [
    {
     "name": "stdout",
     "output_type": "stream",
     "text": [
      "ai en position 0\n",
      "bui en position 1\n",
      "cei en position 2\n",
      "doi en position 3\n"
     ]
    }
   ],
   "source": [
    "a = 0\n",
    "for ii in names:\n",
    "    print(ii + \" en position \" + str(a)) #<-- with tab recognizes the loop tasks\n",
    "    a = a+1"
   ]
  },
  {
   "cell_type": "code",
   "execution_count": 88,
   "id": "50fbb421",
   "metadata": {},
   "outputs": [
    {
     "data": {
      "text/plain": [
       "['ai', 'bui', 'cei', 'doi', 'erika']"
      ]
     },
     "execution_count": 88,
     "metadata": {},
     "output_type": "execute_result"
    }
   ],
   "source": [
    "names.append(\"erika\")  #<-- insert \"erika\" as new element\n",
    "names"
   ]
  },
  {
   "cell_type": "code",
   "execution_count": 93,
   "id": "7fd1ad71",
   "metadata": {},
   "outputs": [],
   "source": [
    "#names.pop(2)  <--eliminar elemento[2]\n",
    "#names.remove(\"erika\")  <--eliminar elemento \"erika\"\n",
    "#names.insert?  #<-- to get info/help about the method used, here \"insert\""
   ]
  },
  {
   "cell_type": "markdown",
   "id": "e11cf6ad",
   "metadata": {},
   "source": [
    "### Conditionals"
   ]
  },
  {
   "cell_type": "code",
   "execution_count": 104,
   "id": "3b92d60a",
   "metadata": {},
   "outputs": [
    {
     "name": "stdout",
     "output_type": "stream",
     "text": [
      "warm\n"
     ]
    }
   ],
   "source": [
    "#if statements. eg.,\n",
    "temp =20\n",
    "if temp>=21:\n",
    "    print(\"hot!!\")\n",
    "elif temp <=15: \n",
    "    print(\"cold!\")\n",
    "else:\n",
    "    print(\"warm\")"
   ]
  },
  {
   "cell_type": "code",
   "execution_count": 105,
   "id": "3c5866eb",
   "metadata": {},
   "outputs": [
    {
     "name": "stdout",
     "output_type": "stream",
     "text": [
      "in interval\n"
     ]
    }
   ],
   "source": [
    "if (temp >15 and temp <30):\n",
    "    print(\"in interval\")"
   ]
  },
  {
   "cell_type": "markdown",
   "id": "205a5db1",
   "metadata": {},
   "source": [
    "### Preparing for tomorrow"
   ]
  },
  {
   "cell_type": "code",
   "execution_count": 106,
   "id": "49572405",
   "metadata": {},
   "outputs": [
    {
     "name": "stdout",
     "output_type": "stream",
     "text": [
      "/Users/mvalencias\n"
     ]
    }
   ],
   "source": [
    "import os\n",
    "print(os.path.abspath(os.getcwd()))"
   ]
  },
  {
   "cell_type": "code",
   "execution_count": 107,
   "id": "a9ae2675",
   "metadata": {},
   "outputs": [],
   "source": [
    "#to install programs \n",
    "#! pip install pyppeteer  <-- eg, install pyppeteer"
   ]
  },
  {
   "cell_type": "code",
   "execution_count": null,
   "id": "1aaf9971",
   "metadata": {},
   "outputs": [],
   "source": []
  }
 ],
 "metadata": {
  "kernelspec": {
   "display_name": "Python 3",
   "language": "python",
   "name": "python3"
  },
  "language_info": {
   "codemirror_mode": {
    "name": "ipython",
    "version": 3
   },
   "file_extension": ".py",
   "mimetype": "text/x-python",
   "name": "python",
   "nbconvert_exporter": "python",
   "pygments_lexer": "ipython3",
   "version": "3.8.8"
  }
 },
 "nbformat": 4,
 "nbformat_minor": 5
}
