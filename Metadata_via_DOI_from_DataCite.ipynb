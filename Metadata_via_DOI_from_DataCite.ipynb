{
 "cells": [
  {
   "cell_type": "code",
   "execution_count": 1,
   "id": "caea4948",
   "metadata": {},
   "outputs": [],
   "source": [
    "# we need libraries url import and one for reading json \n",
    "import urllib.request\n",
    "import json"
   ]
  },
  {
   "cell_type": "code",
   "execution_count": 3,
   "id": "95296a00",
   "metadata": {},
   "outputs": [],
   "source": [
    "# the url will be cut in 2 pieces \n",
    "base_url = \"https://api.datacite.org/application/vnd.datacite.datacite+json/\"\n",
    "doi = \"10.6084/m9.figshare.155613\"\n",
    "full_url =base_url + doi"
   ]
  },
  {
   "cell_type": "code",
   "execution_count": 4,
   "id": "b7b5d59c",
   "metadata": {},
   "outputs": [],
   "source": [
    "#set a new variable where we will read the url, i.e a json file\n",
    "doi_json_dataset = urllib.request.urlopen(full_url).read()"
   ]
  },
  {
   "cell_type": "code",
   "execution_count": 5,
   "id": "4aaeee2d",
   "metadata": {},
   "outputs": [],
   "source": [
    "# json dataset to python dataset (loads = loadstring)\n",
    "doi_dataset = json.loads(doi_json_dataset)"
   ]
  },
  {
   "cell_type": "code",
   "execution_count": 21,
   "id": "bdec6215",
   "metadata": {},
   "outputs": [],
   "source": [
    "#doi_dataset"
   ]
  },
  {
   "cell_type": "code",
   "execution_count": 7,
   "id": "17a61ba4",
   "metadata": {},
   "outputs": [
    {
     "data": {
      "text/plain": [
       "dict"
      ]
     },
     "execution_count": 7,
     "metadata": {},
     "output_type": "execute_result"
    }
   ],
   "source": [
    "type(doi_dataset)"
   ]
  },
  {
   "cell_type": "code",
   "execution_count": 8,
   "id": "736b72b5",
   "metadata": {},
   "outputs": [
    {
     "data": {
      "text/plain": [
       "dict_keys(['id', 'doi', 'url', 'types', 'creators', 'titles', 'publisher', 'container', 'subjects', 'contributors', 'dates', 'publicationYear', 'identifiers', 'sizes', 'formats', 'rightsList', 'descriptions', 'geoLocations', 'fundingReferences', 'relatedIdentifiers', 'schemaVersion', 'providerId', 'clientId', 'agency', 'state'])"
      ]
     },
     "execution_count": 8,
     "metadata": {},
     "output_type": "execute_result"
    }
   ],
   "source": [
    "doi_dataset.keys()"
   ]
  },
  {
   "cell_type": "code",
   "execution_count": 9,
   "id": "39bde75a",
   "metadata": {},
   "outputs": [
    {
     "name": "stdout",
     "output_type": "stream",
     "text": [
      "{'ris': 'DATA', 'bibtex': 'misc', 'citeproc': 'dataset', 'schemaOrg': 'Dataset', 'resourceType': 'Dataset', 'resourceTypeGeneral': 'Dataset'}\n"
     ]
    }
   ],
   "source": [
    "# indicar el tipo de publicacion\n",
    "print(doi_dataset[\"types\"]) #<-however gives lots of possibilities"
   ]
  },
  {
   "cell_type": "code",
   "execution_count": 10,
   "id": "442e4684",
   "metadata": {},
   "outputs": [
    {
     "name": "stdout",
     "output_type": "stream",
     "text": [
      "Dataset\n"
     ]
    }
   ],
   "source": [
    "print(doi_dataset[\"types\"][\"resourceTypeGeneral\"]) #<-specific type"
   ]
  },
  {
   "cell_type": "code",
   "execution_count": 15,
   "id": "6d6ce2f7",
   "metadata": {},
   "outputs": [
    {
     "name": "stdout",
     "output_type": "stream",
     "text": [
      "[{'title': 'git repository for paper on git and reproducible science'}]\n"
     ]
    }
   ],
   "source": [
    "#get now the title:\n",
    "print(doi_dataset[\"titles\"]) #<--but it gives a list"
   ]
  },
  {
   "cell_type": "code",
   "execution_count": 16,
   "id": "aa712211",
   "metadata": {},
   "outputs": [
    {
     "name": "stdout",
     "output_type": "stream",
     "text": [
      "{'title': 'git repository for paper on git and reproducible science'}\n"
     ]
    }
   ],
   "source": [
    "#looking inside the first element of the list [0]\n",
    "print(doi_dataset[\"titles\"][0]) #<--but there is a dictionary inside"
   ]
  },
  {
   "cell_type": "code",
   "execution_count": 19,
   "id": "7ff04e0c",
   "metadata": {},
   "outputs": [
    {
     "name": "stdout",
     "output_type": "stream",
     "text": [
      "git repository for paper on git and reproducible science\n"
     ]
    }
   ],
   "source": [
    "#getting the value of the dictionary to see only the title\n",
    "print(doi_dataset[\"titles\"][0][\"title\"]) # <-now"
   ]
  },
  {
   "cell_type": "code",
   "execution_count": 20,
   "id": "a8fd3b42",
   "metadata": {},
   "outputs": [
    {
     "name": "stdout",
     "output_type": "stream",
     "text": [
      "figshare\n"
     ]
    }
   ],
   "source": [
    "# get publisher\n",
    "print(doi_dataset[\"publisher\"])"
   ]
  },
  {
   "cell_type": "code",
   "execution_count": 18,
   "id": "2b996f43",
   "metadata": {},
   "outputs": [],
   "source": [
    "# doi, Type, title, publisher\n",
    "dois = [\"10.6084/m9.figshare.155613\",\n",
    "        \"10.6084/m9.figshare.153821.v1\",\n",
    "        \"10.7490/f1000research.1115338.1\",\n",
    "        \"10.5281/zenodo.2599866\"]"
   ]
  },
  {
   "cell_type": "code",
   "execution_count": 24,
   "id": "f79a022b",
   "metadata": {},
   "outputs": [
    {
     "name": "stdout",
     "output_type": "stream",
     "text": [
      "doi = 10.6084/m9.figshare.155613\n",
      "Type = Dataset\n",
      "Title = git repository for paper on git and reproducible science\n",
      "Publisher = figshare\n",
      "----\n",
      "doi = 10.6084/m9.figshare.153821.v1\n",
      "Type = Dataset\n",
      "Title = git can facilitate greater reproducibility and increased transparency in science\n",
      "Publisher = figshare\n",
      "----\n",
      "doi = 10.7490/f1000research.1115338.1\n",
      "Type = Other\n",
      "Title = The role of the German National Library for Life Sciences ZB MED in the approach to a FAIR Research Data Infrastructure in Agricultural Science embedded in the Life Sciences\n",
      "Publisher = F1000 Research Limited\n",
      "----\n",
      "doi = 10.5281/zenodo.2599866\n",
      "Type = Other\n",
      "Title = Nachnutzbare Awarenessmaterialien für Forschungsdatenmanagement (FDM)\n",
      "Publisher = Zenodo\n",
      "----\n"
     ]
    }
   ],
   "source": [
    "for DD in dois:\n",
    "    doi = DD\n",
    "    print(\"doi = \" + doi)\n",
    "    full_url =base_url + doi\n",
    "    doi_json_dataset = urllib.request.urlopen(full_url).read()\n",
    "    doi_dataset = json.loads(doi_json_dataset)\n",
    "    print(\"Type = \" + doi_dataset[\"types\"][\"resourceTypeGeneral\"])\n",
    "    print(\"Title = \" + doi_dataset[\"titles\"][0][\"title\"])\n",
    "    print(\"Publisher = \" + doi_dataset[\"publisher\"])\n",
    "    print('----')"
   ]
  },
  {
   "cell_type": "code",
   "execution_count": null,
   "id": "0a3dbe65",
   "metadata": {},
   "outputs": [],
   "source": []
  }
 ],
 "metadata": {
  "kernelspec": {
   "display_name": "Python 3",
   "language": "python",
   "name": "python3"
  },
  "language_info": {
   "codemirror_mode": {
    "name": "ipython",
    "version": 3
   },
   "file_extension": ".py",
   "mimetype": "text/x-python",
   "name": "python",
   "nbconvert_exporter": "python",
   "pygments_lexer": "ipython3",
   "version": "3.8.8"
  }
 },
 "nbformat": 4,
 "nbformat_minor": 5
}
